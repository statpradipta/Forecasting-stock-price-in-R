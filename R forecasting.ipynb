{
 "cells": [
  {
   "cell_type": "markdown",
   "id": "13886adf",
   "metadata": {},
   "source": [
    "# Forecasting NIFTY50(^NSEI) Stock Price Using ARIMA Model"
   ]
  },
  {
   "cell_type": "markdown",
   "id": "4d65158b",
   "metadata": {},
   "source": [
    "### _Programming Language: R_"
   ]
  },
  {
   "cell_type": "markdown",
   "id": "af3dc99c",
   "metadata": {},
   "source": [
    " _by_ _**PRADIPTA GHOSH**_ <br>\n",
    "**B.Sc. Statistics,T.D.B. College,Raniganj<br>**_Kazi Nazrul University, Asansol<br>_\n",
    "Univ. Reg. no.:**KNU20114004170**<br>\n",
    "Course code: **BSCHSTSDSE603**"
   ]
  },
  {
   "cell_type": "markdown",
   "id": "73ac30d6",
   "metadata": {},
   "source": [
    "## Introduction:\n",
    "**In this project, we will use an ARIMA model to forecast the stock price of NIFTY50, which is the benchmark index of the National Stock Exchange of India. We will start by loading the necessary libraries and data, followed by cleaning and transforming the data to create a time series object. We will then check for stationarity of the time series and difference it to achieve stationarity if necessary. After that, we will use the auto.arima() function to select the best fit model and forecast the stock price for the next 100 days.**"
   ]
  },
  {
   "cell_type": "markdown",
   "id": "26f7b2af",
   "metadata": {},
   "source": [
    "## Methodology:"
   ]
  },
  {
   "cell_type": "markdown",
   "id": "073f61fe",
   "metadata": {},
   "source": [
    "### 1) Load necessary libraries:\n",
    "We will load the \"urca\" and \"forecast\" libraries using the code snippet below:"
   ]
  },
  {
   "cell_type": "code",
   "execution_count": 1,
   "id": "ff132b8e",
   "metadata": {},
   "outputs": [
    {
     "name": "stdout",
     "output_type": "stream",
     "text": [
      "\n",
      "  There is a binary version available but the source version is later:\n",
      "     binary source needs_compilation\n",
      "urca  1.3-0  1.3-3              TRUE\n",
      "\n",
      "  Binaries will be installed\n",
      "package 'urca' successfully unpacked and MD5 sums checked\n"
     ]
    },
    {
     "name": "stderr",
     "output_type": "stream",
     "text": [
      "Warning message:\n",
      "\"cannot remove prior installation of package 'urca'\"Warning message in file.copy(savedcopy, lib, recursive = TRUE):\n",
      "\"problem copying G:\\Anaconda3\\Lib\\R\\library\\00LOCK\\urca\\libs\\x64\\urca.dll.conda_trash to G:\\Anaconda3\\Lib\\R\\library\\urca\\libs\\x64\\urca.dll.conda_trash: Permission denied\"Warning message:\n",
      "\"restored 'urca'\""
     ]
    },
    {
     "name": "stdout",
     "output_type": "stream",
     "text": [
      "\n",
      "The downloaded binary packages are in\n",
      "\tC:\\Users\\dddee\\AppData\\Local\\Temp\\RtmpAXEEQy\\downloaded_packages\n",
      "\n",
      "  There is a binary version available but the source version is later:\n",
      "         binary source needs_compilation\n",
      "forecast   8.14   8.21              TRUE\n",
      "\n",
      "  Binaries will be installed\n",
      "package 'forecast' successfully unpacked and MD5 sums checked\n",
      "\n",
      "The downloaded binary packages are in\n",
      "\tC:\\Users\\dddee\\AppData\\Local\\Temp\\RtmpAXEEQy\\downloaded_packages\n"
     ]
    },
    {
     "name": "stderr",
     "output_type": "stream",
     "text": [
      "Warning message:\n",
      "\"package 'forecast' was built under R version 3.6.3\"Registered S3 methods overwritten by 'ggplot2':\n",
      "  method         from \n",
      "  [.quosures     rlang\n",
      "  c.quosures     rlang\n",
      "  print.quosures rlang\n",
      "Registered S3 method overwritten by 'xts':\n",
      "  method     from\n",
      "  as.zoo.xts zoo \n",
      "Registered S3 method overwritten by 'quantmod':\n",
      "  method            from\n",
      "  as.zoo.data.frame zoo \n"
     ]
    }
   ],
   "source": [
    "install.packages(\"urca\")\n",
    "install.packages(\"forecast\")\n",
    "\n",
    "library(urca)\n",
    "library(forecast)"
   ]
  },
  {
   "cell_type": "markdown",
   "id": "0665bb44",
   "metadata": {},
   "source": [
    "### 2) Load data:\n",
    "We will load the NIFTY50 stock price data from a CSV file and convert the date column to the Date format using the code snippet below:"
   ]
  },
  {
   "cell_type": "code",
   "execution_count": 2,
   "id": "6684e950",
   "metadata": {},
   "outputs": [],
   "source": [
    "nifty50 <- read.csv(\"NSEI.csv\", header = TRUE, stringsAsFactors = FALSE)\n",
    "nifty50$Date <- as.Date(nifty50$Date, format = \"%Y-%m-%d\")"
   ]
  },
  {
   "cell_type": "markdown",
   "id": "52ff09c8",
   "metadata": {},
   "source": [
    "### 3) Convert the Close price column to numeric format:\n",
    "The Close price column is loaded as a character column, so we will convert it to numeric format for further analysis using the code snippet below:"
   ]
  },
  {
   "cell_type": "code",
   "execution_count": 3,
   "id": "c470951e",
   "metadata": {},
   "outputs": [
    {
     "name": "stderr",
     "output_type": "stream",
     "text": [
      "Warning message in eval(expr, envir, enclos):\n",
      "\"NAs introduced by coercion\""
     ]
    }
   ],
   "source": [
    "nifty50$Close <- as.numeric(nifty50$Close)"
   ]
  },
  {
   "cell_type": "markdown",
   "id": "332873d5",
   "metadata": {},
   "source": [
    "### 4) Remove rows with missing values:\n",
    "We will remove any rows that have missing values using the code snippet below:"
   ]
  },
  {
   "cell_type": "code",
   "execution_count": 4,
   "id": "118b0cc7",
   "metadata": {},
   "outputs": [],
   "source": [
    "nifty50 <- nifty50[complete.cases(nifty50),]"
   ]
  },
  {
   "cell_type": "markdown",
   "id": "ccfa2eac",
   "metadata": {},
   "source": [
    "### 5) Create a time series object:\n",
    "We will create a time series object using the Close price column, starting from April 2014 with a frequency of 252 trading days per year using the code snippet below:"
   ]
  },
  {
   "cell_type": "code",
   "execution_count": 5,
   "id": "bf1fb3af",
   "metadata": {},
   "outputs": [
    {
     "data": {
      "image/png": "[encoded data removed]",
      "text/plain": [
       "Plot with title \"NIFTY50 Close Price Time Series\""
      ]
     },
     "metadata": {},
     "output_type": "display_data"
    }
   ],
   "source": [
    "nifty50_ts <- ts(nifty50$Close, start = c(2014, 4), end = c(2023,3), frequency = 252)\n",
    "plot(nifty50_ts, main = \"NIFTY50 Close Price Time Series\", ylab=\"Price\")"
   ]
  },
  {
   "cell_type": "markdown",
   "id": "8c065bf7",
   "metadata": {},
   "source": [
    "### 6) Check for stationarity using Augmented Dickey-Fuller (ADF) test:\n",
    "We will perform the ADF test to check if the time series is stationary using the code snippet below:"
   ]
  },
  {
   "cell_type": "code",
   "execution_count": 6,
   "id": "3f4c1d7e",
   "metadata": {},
   "outputs": [
    {
     "data": {
      "text/plain": [
       "\n",
       "############################################### \n",
       "# Augmented Dickey-Fuller Test Unit Root Test # \n",
       "############################################### \n",
       "\n",
       "Test regression trend \n",
       "\n",
       "\n",
       "Call:\n",
       "lm(formula = z.diff ~ z.lag.1 + 1 + tt + z.diff.lag)\n",
       "\n",
       "Residuals:\n",
       "     Min       1Q   Median       3Q      Max \n",
       "-1165.04   -50.81     1.92    57.70   685.50 \n",
       "\n",
       "Coefficients:\n",
       "             Estimate Std. Error t value Pr(>|t|)  \n",
       "(Intercept) 25.427447  11.171009   2.276   0.0229 *\n",
       "z.lag.1     -0.004229   0.001916  -2.208   0.0273 *\n",
       "tt           0.019993   0.009382   2.131   0.0332 *\n",
       "z.diff.lag   0.015212   0.021024   0.724   0.4694  \n",
       "---\n",
       "Signif. codes:  0 '***' 0.001 '**' 0.01 '*' 0.05 '.' 0.1 ' ' 1\n",
       "\n",
       "Residual standard error: 116.3 on 2262 degrees of freedom\n",
       "Multiple R-squared:  0.002354,\tAdjusted R-squared:  0.00103 \n",
       "F-statistic: 1.779 on 3 and 2262 DF,  p-value: 0.1491\n",
       "\n",
       "\n",
       "Value of test-statistic is: -2.208 2.716 2.4727 \n",
       "\n",
       "Critical values for test statistics: \n",
       "      1pct  5pct 10pct\n",
       "tau3 -3.96 -3.41 -3.12\n",
       "phi2  6.09  4.68  4.03\n",
       "phi3  8.27  6.25  5.34\n"
      ]
     },
     "metadata": {},
     "output_type": "display_data"
    }
   ],
   "source": [
    "adf_test <- ur.df(nifty50_ts, type = \"trend\", selectlags = \"AIC\")\n",
    "summary(adf_test)"
   ]
  },
  {
   "cell_type": "markdown",
   "id": "a570f856",
   "metadata": {},
   "source": [
    "### 7) Difference the time series to achieve stationarity:\n",
    "If the time series is not stationary, we will difference it to achieve stationarity using the code snippet below:"
   ]
  },
  {
   "cell_type": "code",
   "execution_count": 7,
   "id": "51592ce0",
   "metadata": {},
   "outputs": [
    {
     "data": {
      "image/png": "[encoded data removed]",
      "text/plain": [
       "Plot with title \"Differenced NIFTY50 Close Price Time Series\""
      ]
     },
     "metadata": {},
     "output_type": "display_data"
    }
   ],
   "source": [
    "nifty50_diff <- diff(nifty50_ts, differences = 1)\n",
    "plot(nifty50_diff, main = \"Differenced NIFTY50 Close Price Time Series\")"
   ]
  },
  {
   "cell_type": "markdown",
   "id": "74de1093",
   "metadata": {},
   "source": [
    "### 8) Check for stationarity of the differenced time series:"
   ]
  },
  {
   "cell_type": "code",
   "execution_count": 8,
   "id": "7d32f0ae",
   "metadata": {},
   "outputs": [
    {
     "data": {
      "text/plain": [
       "\n",
       "############################################### \n",
       "# Augmented Dickey-Fuller Test Unit Root Test # \n",
       "############################################### \n",
       "\n",
       "Test regression trend \n",
       "\n",
       "\n",
       "Call:\n",
       "lm(formula = z.diff ~ z.lag.1 + 1 + tt + z.diff.lag)\n",
       "\n",
       "Residuals:\n",
       "     Min       1Q   Median       3Q      Max \n",
       "-1150.01   -50.34     2.38    57.90   700.07 \n",
       "\n",
       "Coefficients:\n",
       "              Estimate Std. Error t value Pr(>|t|)    \n",
       "(Intercept)  3.4479205  4.8998162   0.704    0.482    \n",
       "z.lag.1     -1.0028507  0.0295401 -33.949   <2e-16 ***\n",
       "tt           0.0009133  0.0037426   0.244    0.807    \n",
       "z.diff.lag   0.0162682  0.0210262   0.774    0.439    \n",
       "---\n",
       "Signif. codes:  0 '***' 0.001 '**' 0.01 '*' 0.05 '.' 0.1 ' ' 1\n",
       "\n",
       "Residual standard error: 116.5 on 2261 degrees of freedom\n",
       "Multiple R-squared:  0.4936,\tAdjusted R-squared:  0.4929 \n",
       "F-statistic: 734.5 on 3 and 2261 DF,  p-value: < 2.2e-16\n",
       "\n",
       "\n",
       "Value of test-statistic is: -33.9488 384.1737 576.2606 \n",
       "\n",
       "Critical values for test statistics: \n",
       "      1pct  5pct 10pct\n",
       "tau3 -3.96 -3.41 -3.12\n",
       "phi2  6.09  4.68  4.03\n",
       "phi3  8.27  6.25  5.34\n"
      ]
     },
     "metadata": {},
     "output_type": "display_data"
    }
   ],
   "source": [
    "adf_test_diff <- ur.df(nifty50_diff, type = \"trend\", selectlags = \"AIC\")\n",
    "summary(adf_test_diff)"
   ]
  },
  {
   "cell_type": "markdown",
   "id": "23d465a3",
   "metadata": {},
   "source": [
    "### 9) Use auto.arima() to select the best fit model:\n",
    "We will use the auto.arima() function to select the best fit model for our time series using the code snippet below:"
   ]
  },
  {
   "cell_type": "code",
   "execution_count": 9,
   "id": "89dba2d4",
   "metadata": {},
   "outputs": [
    {
     "name": "stdout",
     "output_type": "stream",
     "text": [
      "\n",
      " Fitting models using approximations to speed things up...\n",
      "\n",
      " ARIMA(2,1,2)(1,1,1)[252]                    : Inf\n",
      " ARIMA(0,1,0)(0,1,0)[252]                    : 23596.67\n",
      " ARIMA(1,1,0)(1,1,0)[252]                    : Inf\n",
      " ARIMA(0,1,1)(0,1,1)[252]                    : Inf\n",
      " ARIMA(0,1,0)(1,1,0)[252]                    : Inf\n",
      " ARIMA(0,1,0)(0,1,1)[252]                    : Inf\n",
      " ARIMA(0,1,0)(1,1,1)[252]                    : Inf\n",
      " ARIMA(1,1,0)(0,1,0)[252]                    : 23599.35\n",
      " ARIMA(0,1,1)(0,1,0)[252]                    : 23598.51\n",
      " ARIMA(1,1,1)(0,1,0)[252]                    : 23601.36\n",
      "\n",
      " Now re-fitting the best model(s) without approximations...\n",
      "\n",
      " ARIMA(0,1,0)(0,1,0)[252]                    : 26162.7\n",
      "\n",
      " Best model: ARIMA(0,1,0)(0,1,0)[252]                    \n",
      "\n"
     ]
    },
    {
     "data": {
      "text/plain": [
       "Series: nifty50_ts \n",
       "ARIMA(0,1,0)(0,1,0)[252] \n",
       "\n",
       "sigma^2 estimated as 25374:  log likelihood=-13080.35\n",
       "AIC=26162.7   AICc=26162.7   BIC=26168.31"
      ]
     },
     "metadata": {},
     "output_type": "display_data"
    }
   ],
   "source": [
    "nifty50_arima <- auto.arima(nifty50_ts, D = 1, trace = TRUE)\n",
    "nifty50_arima"
   ]
  },
  {
   "cell_type": "markdown",
   "id": "c9384cad",
   "metadata": {},
   "source": [
    "### 10) Forecast the next 100 days of the NIFTY50 stock price:\n",
    "We will use the forecast() function to forecast the stock price for the next 100 trading days using the code snippet below:"
   ]
  },
  {
   "cell_type": "code",
   "execution_count": 10,
   "id": "da60e727",
   "metadata": {},
   "outputs": [],
   "source": [
    "nifty50_forecast <- forecast(nifty50_arima, h = 100)"
   ]
  },
  {
   "cell_type": "markdown",
   "id": "fb1d8b41",
   "metadata": {},
   "source": [
    "### 11) Plot the forecasted values:\n",
    "We will plot the forecasted values to visualize the future trend of the NIFTY50 stock price using the code snippet below:"
   ]
  },
  {
   "cell_type": "code",
   "execution_count": 13,
   "id": "5ed5dda4",
   "metadata": {},
   "outputs": [
    {
     "data": {
      "image/png": "[encoded data removed]",
      "text/plain": [
       "Plot with title \"Forecasted NIFTY50 Close Price\""
      ]
     },
     "metadata": {},
     "output_type": "display_data"
    }
   ],
   "source": [
    "plot(nifty50_forecast, main = \"Forecasted NIFTY50 Close Price\", xlab=\"Time\", ylab=\"Price(INR)\")"
   ]
  },
  {
   "cell_type": "markdown",
   "id": "1491f3b1",
   "metadata": {},
   "source": [
    "## Results:"
   ]
  },
  {
   "cell_type": "markdown",
   "id": "d9f92ae2",
   "metadata": {},
   "source": [
    "**The ADF test shows that the original time series is not stationary, so we perform first order differencing to achieve stationarity. The auto.arima() function selects an ARIMA(0,1,0) model as the best fit model for our time series. The forecasted values plot shows that the NIFTY50(^NSEI) stock price is expected to have a gradual upward trend for the next 100 trading days.**"
   ]
  },
  {
   "cell_type": "markdown",
   "id": "1f78d417",
   "metadata": {},
   "source": [
    "## Conclusion:"
   ]
  },
  {
   "cell_type": "markdown",
   "id": "ebc21e8b",
   "metadata": {},
   "source": [
    "*In this project, we used an ARIMA model to forecast the stock price of NIFTY50. We checked for stationarity of the time series and used differencing to achieve stationarity if necessary. We selected the best fit model using the auto.arima() function and forecasted the stock price for the next 100 trading days. The forecasted values plot shows that the NIFTY50 stock price is expected to have a gradual upward trend for the next 100 trading days.*"
   ]
  }
 ],
 "metadata": {
  "kernelspec": {
   "display_name": "R",
   "language": "R",
   "name": "ir"
  },
  "language_info": {
   "codemirror_mode": "r",
   "file_extension": ".r",
   "mimetype": "text/x-r-source",
   "name": "R",
   "pygments_lexer": "r",
   "version": "3.6.1"
  }
 },
 "nbformat": 4,
 "nbformat_minor": 5
}
